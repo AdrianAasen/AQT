{
  "nbformat": 4,
  "nbformat_minor": 0,
  "metadata": {
    "colab": {
      "name": "AQT - Driven dissipative dynamics.ipynb",
      "provenance": [],
      "collapsed_sections": [],
      "authorship_tag": "ABX9TyPCGfune8HMlML0lL9PdVOE",
      "include_colab_link": true
    },
    "kernelspec": {
      "name": "python3",
      "display_name": "Python 3"
    },
    "language_info": {
      "name": "python"
    }
  },
  "cells": [
    {
      "cell_type": "markdown",
      "metadata": {
        "id": "view-in-github",
        "colab_type": "text"
      },
      "source": [
        "<a href=\"https://colab.research.google.com/github/AdrianAasen/AQT/blob/main/AQT_Driven_dissipative_dynamics.ipynb\" target=\"_parent\"><img src=\"https://colab.research.google.com/assets/colab-badge.svg\" alt=\"Open In Colab\"/></a>"
      ]
    },
    {
      "cell_type": "markdown",
      "source": [
        "# Driven dissipative dynamics \n",
        "## Sheet 3, problem 2 (c)\n",
        "AQT 2022"
      ],
      "metadata": {
        "id": "XLaSLEygxuB5"
      }
    },
    {
      "cell_type": "code",
      "execution_count": null,
      "metadata": {
        "id": "iqBSre3UkhbF"
      },
      "outputs": [],
      "source": [
        "# load standard libraries\n",
        "\n",
        "import numpy as np   # standard numerics library\n",
        "\n",
        "import matplotlib.pyplot as plt   # for making plots\n",
        "!pip install qutip # To install qutip in this session\n",
        "from qutip import Bloch \n",
        "\n",
        "\n",
        "# for interactive graphics\n",
        "from ipywidgets import interactive, interact\n",
        "from ipywidgets import FloatSlider, fixed, IntSlider\n",
        "\n",
        "\n",
        "%matplotlib inline"
      ]
    },
    {
      "cell_type": "code",
      "source": [
        "# Define initial parameters\n",
        "omega=1\n",
        "\n",
        "dt=0.1 # Step length\n",
        "\n",
        "\n",
        "def pauliExp(t,omega):\n",
        "  # Set conditions given in the problem\n",
        "  gamma=omega\n",
        "  omegaGamma=np.sqrt(omega**2 - (gamma/4)**2)\n",
        "\n",
        "  # Defien the Pauli expectation values\n",
        "  x=0*t\n",
        "  y=omega*gamma/(omega**2 + gamma**2/2) * (1-np.exp(-t*3*gamma/4)*(np.cos(omegaGamma*t) - (omegaGamma**2-gamma**2/4)/(omegaGamma*gamma)*np.sin(omegaGamma*t))) \n",
        "  z= -1 + omega**2/(omega**2 + gamma**2/2) * (1- np.exp(-t*3*gamma/4)*(np.cos(omegaGamma*t) + 3*gamma/(4*omegaGamma)*np.sin(omegaGamma*t)))\n",
        "  \n",
        "  return x,y,z\n",
        "\n",
        "\n",
        "\n",
        "def f(t,omega):\n",
        "  # calculate the spin expectation values\n",
        "  nPlotPoints=10\n",
        "  timePoints=np.arange(t,t+10*dt,dt)\n",
        "  pauliExpVals = pauliExp(timePoints,omega)\n",
        "  print(f'Plotting for times: {timePoints}')\n",
        "  print(f'Pauli expectation values:\\n x: {pauliExpVals[0]}\\n z: {pauliExpVals[1]}\\n z: {pauliExpVals[2]}')\n",
        "  # plot a point on the sphere\n",
        "  b = Bloch()\n",
        "  b.add_points(pauliExpVals)\n",
        "  b.render()\n",
        "\n",
        "\n",
        "interact(f, t=FloatSlider(min=0,max=100*dt,step=dt), omega=fixed(omega));"
      ],
      "metadata": {
        "id": "0dT9WUrQku58"
      },
      "execution_count": null,
      "outputs": []
    },
    {
      "cell_type": "code",
      "source": [
        ""
      ],
      "metadata": {
        "id": "yQCS0qJTunUJ"
      },
      "execution_count": null,
      "outputs": []
    }
  ]
}