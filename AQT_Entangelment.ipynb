{
  "nbformat": 4,
  "nbformat_minor": 0,
  "metadata": {
    "colab": {
      "name": "AQT - Entangelment.ipynb",
      "provenance": [],
      "collapsed_sections": [],
      "authorship_tag": "ABX9TyO9vB3YatL9kwVQn7YgtJcZ",
      "include_colab_link": true
    },
    "kernelspec": {
      "name": "python3",
      "display_name": "Python 3"
    },
    "language_info": {
      "name": "python"
    }
  },
  "cells": [
    {
      "cell_type": "markdown",
      "metadata": {
        "id": "view-in-github",
        "colab_type": "text"
      },
      "source": [
        "<a href=\"https://colab.research.google.com/github/AdrianAasen/AQT/blob/main/AQT_Entangelment.ipynb\" target=\"_parent\"><img src=\"https://colab.research.google.com/assets/colab-badge.svg\" alt=\"Open In Colab\"/></a>"
      ]
    },
    {
      "cell_type": "markdown",
      "source": [
        "# Mixed state entangelment \n",
        "## Sheet 5, problem 1\n",
        "AQT 2022"
      ],
      "metadata": {
        "id": "Sx0jOptkpp8V"
      }
    },
    {
      "cell_type": "code",
      "execution_count": 1,
      "metadata": {
        "id": "aI8pZSflppH1"
      },
      "outputs": [],
      "source": [
        "# load standard libraries\n",
        "import numpy as np   # standard numerics library\n",
        "import matplotlib.pyplot as plt   # for making plots\n",
        "from numpy import linalg as LA #Linear algebra library\n",
        "\n",
        "%matplotlib inline"
      ]
    },
    {
      "cell_type": "code",
      "source": [
        "# Extracting the probability distribution\n",
        "dist=np.array([96220324,70090103,69235243,60390321,59600265,58266649,53641330,53103567,37932104,33860954,31645123,27311858,\n",
        "               21148899,20879439,17990065,16686684,15836297,13326883,12723313,12341441,8467759,5357044,3576208,3062502,\n",
        "               2297922,1990168,1740543,1597840,1446406,1152077,1079594,973892,925262,903536,896744,892113,815699])\n",
        "letter=np.array([\"e\",\"a\",\"t\",\"i\",\"n\",\"o\",\"r\",\"s\",\"h\",\"l\",\"d\",\"c\",\"u\",\"m\",\"f\",\"p\",\"g\",\"w\",\"b\",\"y\",\"v\",\"k\",\"1\",\"0\",\"9\",\"2\",\"j\",\n",
        "                 \"x\",\"'\",\"8\",\"z\",\"5\",\"3\",\"7\",\"4\",\"6\",\"q\"])\n",
        "\n",
        "\n",
        "n=22 # Number of characters in a string\n",
        "dist=dist/np.sum(dist) # Normalize distribution\n",
        "\n",
        "ent=np.sum(-dist*np.log2(dist)) # Compute entangelment of distribution\n",
        "print(f'The average bit required to encode a character optimized for the english language is {ent}.')\n",
        "print(f'The average number of bits required to encode {n} characters is {int(np.ceil(n*ent))} bits.')\n",
        "print(f'ASCII endcoding of {n} characters requires {n*8} bits.')\n",
        "print(f'Which means we save on average {n*8-int(np.ceil(n*ent))} bits by using an optimal encoding for {n} characters.')"
      ],
      "metadata": {
        "colab": {
          "base_uri": "https://localhost:8080/"
        },
        "id": "PSctbRr2ppqO",
        "outputId": "7d58e740-6a79-4e9c-b377-eb8792e4fbe6"
      },
      "execution_count": 2,
      "outputs": [
        {
          "output_type": "stream",
          "name": "stdout",
          "text": [
            "The average bit required to encode a character optimized for the english language is 4.310125583321846.\n",
            "The average number of bits required to encode 22 characters is 95 bits.\n",
            "ASCII endcoding of 22 characters requires 176 bits.\n",
            "Which means we save on average 81 bits by using an optimal encoding for 22 characters.\n"
          ]
        }
      ]
    },
    {
      "cell_type": "markdown",
      "source": [
        "## Sheet 5, problem 3\n"
      ],
      "metadata": {
        "id": "lvjd8ejSDuYj"
      }
    },
    {
      "cell_type": "code",
      "source": [
        "# Functions defined in previous notebook:\n",
        "def rhoW(p):\n",
        "  return 1/4*np.array([[2-p,0,0,2*(1-p)],[0,p,0,0],[0,0,p,0],[2*(1-p),0,0,2-p]])\n",
        "\n",
        "def EF(p):\n",
        "  Ef=np.zeros(len(p))\n",
        "  for i in range(len(p)):\n",
        "    eig,v=LA.eig(rhoW(p[i]))\n",
        "    concurrence=np.maximum(0,eig[0]-eig[1]-eig[2]-eig[3])\n",
        "    x=(1+np.sqrt(1-concurrence**2))/2\n",
        "    Ef[i]=np.nan_to_num(-x*np.log2(x) - (1-x)*np.log2(1-x)) # Nan_to_num makes sure the 0*log(0) is handeled correctly\n",
        "  return Ef\n",
        "\n",
        "# Compute coherent information\n",
        "def coherentInformation(p):\n",
        "  return 1+(1-3*p/4)*np.log2((1-3*p/4)) + 3/4*p*np.log2(p/4) #The eigenvalues are computed by hand for both rho and tr_A(rho)\n",
        "\n",
        "# Compute entangelment of formation and conherent information\n",
        "n=100 # Number of points to compute\n",
        "p=np.linspace(0,1,n)\n",
        "Ef=EF(p)\n",
        "cohInfo=coherentInformation(p)\n",
        "\n",
        "plt.plot(p,0*p,c=\"k\")\n",
        "plt.plot(np.ones(10)*1/3,np.linspace(-1,1,10),c=\"k\",label=\"p=1/3\")\n",
        "plt.plot(p,Ef, label=\"Ef\")\n",
        "plt.plot(p,cohInfo,label='Coherent info')\n",
        "plt.xlabel('p')\n",
        "plt.legend()\n",
        "plt.show()\n",
        "print(f'We can clearly see that Ef tells us the Wernser state is entagneled, while coherent information does not detect the state!')"
      ],
      "metadata": {
        "id": "KHj1bs60rWzg",
        "colab": {
          "base_uri": "https://localhost:8080/",
          "height": 435
        },
        "outputId": "79172ac8-7804-422d-b390-200bc585c952"
      },
      "execution_count": 3,
      "outputs": [
        {
          "output_type": "stream",
          "name": "stderr",
          "text": [
            "/usr/local/lib/python3.7/dist-packages/ipykernel_launcher.py:11: RuntimeWarning: divide by zero encountered in log2\n",
            "  # This is added back by InteractiveShellApp.init_path()\n",
            "/usr/local/lib/python3.7/dist-packages/ipykernel_launcher.py:11: RuntimeWarning: invalid value encountered in double_scalars\n",
            "  # This is added back by InteractiveShellApp.init_path()\n",
            "/usr/local/lib/python3.7/dist-packages/ipykernel_launcher.py:16: RuntimeWarning: divide by zero encountered in log2\n",
            "  app.launch_new_instance()\n",
            "/usr/local/lib/python3.7/dist-packages/ipykernel_launcher.py:16: RuntimeWarning: invalid value encountered in multiply\n",
            "  app.launch_new_instance()\n"
          ]
        },
        {
          "output_type": "display_data",
          "data": {
            "text/plain": [
              "<Figure size 432x288 with 1 Axes>"
            ],
            "image/png": "[encoded data removed]"
          },
          "metadata": {
            "needs_background": "light"
          }
        },
        {
          "output_type": "stream",
          "name": "stdout",
          "text": [
            "We can clearly see that Ef tells us the Wernser state is entagneled, while coherent information does not detect the state!\n"
          ]
        }
      ]
    },
    {
      "cell_type": "code",
      "source": [
        ""
      ],
      "metadata": {
        "id": "xBzOxiS-FBPL"
      },
      "execution_count": null,
      "outputs": []
    }
  ]
}