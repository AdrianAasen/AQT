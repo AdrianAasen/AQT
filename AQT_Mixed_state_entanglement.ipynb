{
  "nbformat": 4,
  "nbformat_minor": 0,
  "metadata": {
    "colab": {
      "name": "AQT - Mixed state entanglement.ipynb",
      "provenance": [],
      "collapsed_sections": [],
      "authorship_tag": "ABX9TyOaNTBM2R9Nh0/Ju3WdzyV6",
      "include_colab_link": true
    },
    "kernelspec": {
      "name": "python3",
      "display_name": "Python 3"
    },
    "language_info": {
      "name": "python"
    }
  },
  "cells": [
    {
      "cell_type": "markdown",
      "metadata": {
        "id": "view-in-github",
        "colab_type": "text"
      },
      "source": [
        "<a href=\"https://colab.research.google.com/github/AdrianAasen/AQT/blob/main/AQT_Mixed_state_entanglement.ipynb\" target=\"_parent\"><img src=\"https://colab.research.google.com/assets/colab-badge.svg\" alt=\"Open In Colab\"/></a>"
      ]
    },
    {
      "cell_type": "markdown",
      "source": [
        "# Mixed state entangelment \n",
        "## Sheet 4, problem 3\n",
        "AQT 2022"
      ],
      "metadata": {
        "id": "GflXWXIy5MKv"
      }
    },
    {
      "cell_type": "code",
      "source": [
        "# load standard libraries\n",
        "import numpy as np   # standard numerics library\n",
        "import matplotlib.pyplot as plt   # for making plots\n",
        "from numpy import linalg as LA #Linear algebra library\n",
        "\n",
        "\n",
        "%matplotlib inline"
      ],
      "metadata": {
        "id": "ugFzm_yw5S6v"
      },
      "execution_count": 3,
      "outputs": []
    },
    {
      "cell_type": "code",
      "source": [
        "n=100\n",
        "p=np.linspace(0,1,n)\n",
        "\n",
        "def rhoW(p):\n",
        "  return 1/4*np.array([[2-p,0,0,2*(1-p)],[0,p,0,0],[0,0,p,0],[2*(1-p),0,0,2-p]])\n",
        "\n",
        "def WernerPTB(p): # Takes the partial trace of rho\n",
        "  return 1/4*np.array([[2-p,0,0,0],[0,p,2*(1-p),0],[0,2*(1-p),p,0],[0,0,0,2-p]])\n",
        "  \n",
        "\n",
        "def EN(p):\n",
        "  En=np.zeros(len(p))\n",
        "  for i in range(len(p)):\n",
        "    eig,v=LA.eig(WernerPTB(p[i]))\n",
        "    N=1/2*np.sum(np.abs(eig)-eig)\n",
        "    En[i]=np.log2(1+2*N)\n",
        "  return En\n",
        "\n",
        "\n",
        "def EF(p):\n",
        "  Ef=np.zeros(len(p))\n",
        "  for i in range(len(p)):\n",
        "    eig,v=LA.eig(rhoW(p[i]))\n",
        "    concurrence=np.maximum(0,eig[0]-eig[1]-eig[2]-eig[3])\n",
        "    x=(1+np.sqrt(1-concurrence**2))/2\n",
        "    Ef[i]=np.nan_to_num(-x*np.log2(x) - (1-x)*np.log2(1-x)) # Nan_to_num makes sure the 0*log(0) is handeled correctly\n",
        "  return Ef\n",
        "\n",
        "En=EN(p)\n",
        "Ef=EF(p)\n",
        "\n",
        "plt.plot(p,p*0,c='k')\n",
        "plt.plot(p,En,label='En')\n",
        "plt.plot(p,Ef,label='Ef')\n",
        "plt.plot(p,En-Ef,label='En-Ef')\n",
        "\n",
        "plt.xlabel(\"p\")\n",
        "plt.legend()\n",
        "plt.show()\n",
        "\n",
        "\n"
      ],
      "metadata": {
        "colab": {
          "base_uri": "https://localhost:8080/",
          "height": 314
        },
        "id": "ywbeIZCl5Uli",
        "outputId": "75be263f-5fe6-415a-e0f6-4c612308f01a"
      },
      "execution_count": 21,
      "outputs": [
        {
          "output_type": "stream",
          "name": "stderr",
          "text": [
            "/usr/local/lib/python3.7/dist-packages/ipykernel_launcher.py:26: RuntimeWarning: divide by zero encountered in log2\n",
            "/usr/local/lib/python3.7/dist-packages/ipykernel_launcher.py:26: RuntimeWarning: invalid value encountered in double_scalars\n"
          ]
        },
        {
          "output_type": "display_data",
          "data": {
            "text/plain": [
              "<Figure size 432x288 with 1 Axes>"
            ],
            "image/png": "[encoded data removed]"
          },
          "metadata": {
            "needs_background": "light"
          }
        }
      ]
    }
  ]
}